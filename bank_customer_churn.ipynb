{
 "cells": [
  {
   "cell_type": "code",
   "execution_count": 1,
   "id": "60230a76-3327-4cac-aa09-c78ff468c7fd",
   "metadata": {},
   "outputs": [
    {
     "name": "stdout",
     "output_type": "stream",
     "text": [
      "Requirement already satisfied: joblib in c:\\users\\lilian\\anaconda3\\envs\\py13\\lib\\site-packages (1.5.2)\n",
      "Note: you may need to restart the kernel to use updated packages.\n"
     ]
    }
   ],
   "source": [
    "pip install joblib"
   ]
  },
  {
   "cell_type": "code",
   "execution_count": 2,
   "id": "3ce57f99-ea7b-4555-963c-89fba93e00ff",
   "metadata": {},
   "outputs": [],
   "source": [
    "# train_churn_project.py\n",
    "import pandas as pd\n",
    "import numpy as np\n",
    "import matplotlib.pyplot as plt\n",
    "import joblib\n",
    "from sklearn.model_selection import train_test_split, GridSearchCV\n",
    "from sklearn.preprocessing import StandardScaler, OneHotEncoder\n",
    "from sklearn.compose import ColumnTransformer\n",
    "from sklearn.pipeline import Pipeline\n",
    "from sklearn.linear_model import LogisticRegression\n",
    "from sklearn.ensemble import RandomForestClassifier\n",
    "from sklearn.metrics import accuracy_score, roc_auc_score, classification_report, confusion_matrix, RocCurveDisplay"
   ]
  },
  {
   "cell_type": "code",
   "execution_count": 3,
   "id": "c5ab7848-a6bc-4d4e-b7e1-6a85cdce1d06",
   "metadata": {},
   "outputs": [
    {
     "name": "stdout",
     "output_type": "stream",
     "text": [
      "Shape: (10000, 12)\n",
      "Columns: ['customer_id', 'credit_score', 'country', 'gender', 'age', 'tenure', 'balance', 'products_number', 'credit_card', 'active_member', 'estimated_salary', 'churn']\n"
     ]
    }
   ],
   "source": [
    "#load\n",
    "df = pd.read_csv(r\"C:\\Users\\Lilian\\Downloads\\Bank Customer Churn Prediction.csv\")\n",
    "print(\"Shape:\", df.shape)\n",
    "print(\"Columns:\", df.columns.tolist())"
   ]
  },
  {
   "cell_type": "code",
   "execution_count": 4,
   "id": "65bf9be1-a743-4e7e-85d5-5fa75352fc60",
   "metadata": {},
   "outputs": [
    {
     "name": "stdout",
     "output_type": "stream",
     "text": [
      "Churn column detected: churn\n"
     ]
    }
   ],
   "source": [
    "# 2) Find churn column (helper)\n",
    "def find_churn_column(df):\n",
    "    for col in df.columns:\n",
    "        if \"churn\" in col.lower() or \"exited\" in col.lower() or \"left\" in col.lower():\n",
    "            return col\n",
    "    # fallback: binary column with 2 unique values\n",
    "    for col in df.columns:\n",
    "        if df[col].nunique() == 2 and col.lower() not in (\"gender\",\"country\"):\n",
    "            return col\n",
    "    return None\n",
    "\n",
    "churn_col = find_churn_column(df)\n",
    "if churn_col is None:\n",
    "    raise ValueError(\"Couldn't detect churn column. Rename it to 'Churn' or 'Exited' or tell the script which column to use.\")\n",
    "print(\"Churn column detected:\", churn_col)"
   ]
  },
  {
   "cell_type": "code",
   "execution_count": 5,
   "id": "c3e36e99-a838-4539-9cc3-da9aab21bd2b",
   "metadata": {},
   "outputs": [
    {
     "name": "stdout",
     "output_type": "stream",
     "text": [
      "churn\n",
      "0    7963\n",
      "1    2037\n",
      "Name: count, dtype: int64\n",
      "Missing values:\n",
      " customer_id         0\n",
      "credit_score        0\n",
      "country             0\n",
      "gender              0\n",
      "age                 0\n",
      "tenure              0\n",
      "balance             0\n",
      "products_number     0\n",
      "credit_card         0\n",
      "active_member       0\n",
      "estimated_salary    0\n",
      "churn               0\n",
      "dtype: int64\n"
     ]
    }
   ],
   "source": [
    "print(df[churn_col].value_counts())\n",
    "print(\"Missing values:\\n\", df.isna().sum().sort_values(ascending=False).head(20))"
   ]
  },
  {
   "cell_type": "code",
   "execution_count": 6,
   "id": "15b62a7f-e7c6-46ef-abe0-69c076c48ea2",
   "metadata": {},
   "outputs": [],
   "source": [
    "#dropping ID columns. Why? Because they have no predictive power and can confuse the model from learning a real pattern\n",
    "id_cols = [c for c in df.columns if \"id\" in c.lower() or \"customer\" in c.lower() and c!=churn_col]\n",
    "df = df.drop(columns = id_cols, errors='ignore')"
   ]
  },
  {
   "cell_type": "code",
   "execution_count": 7,
   "id": "bb8a0466-60f6-47b9-958a-12e6cea93d85",
   "metadata": {},
   "outputs": [],
   "source": [
    "# Normalize churn to 0/1\n",
    "def normalize_churn(series):\n",
    "    if series.dtype == object:\n",
    "        return series.replace({\"Yes\":1,\"No\":0,\"Y\":1,\"N\":0,\"True\":1,\"False\":0,\"TRUE\":1,\"FALSE\":0}).astype(int)\n",
    "    if set(series.dropna().unique()) <= {0,1}:\n",
    "        return series.astype(int)\n",
    "    uniques = sorted(series.dropna().unique())\n",
    "    if len(uniques)==2:\n",
    "        mapping = {uniques[0]:0, uniques[1]:1}\n",
    "        return series.map(mapping).astype(int)\n",
    "    raise ValueError(\"Unhandled churn encoding.\")\n",
    "df[churn_col] = normalize_churn(df[churn_col])"
   ]
  },
  {
   "cell_type": "code",
   "execution_count": 8,
   "id": "3df3a542-312a-46d5-bde7-e1d2c10faabd",
   "metadata": {},
   "outputs": [
    {
     "name": "stdout",
     "output_type": "stream",
     "text": [
      "Numeric: ['credit_score', 'age', 'tenure', 'balance', 'products_number', 'credit_card', 'active_member', 'estimated_salary']\n",
      "Categorical: ['country', 'gender']\n"
     ]
    }
   ],
   "source": [
    "#Feature splits -- separates the inputs from the output, and identifies which of those features are numerical and categorical\n",
    "X = df.drop(columns = [churn_col])\n",
    "y = df[churn_col]\n",
    "num_features = X.select_dtypes(include = [np.number]).columns.tolist()\n",
    "cat_features = X.select_dtypes(exclude = [np.number]).columns.tolist()\n",
    "print(\"Numeric:\", num_features)\n",
    "print(\"Categorical:\", cat_features)"
   ]
  },
  {
   "cell_type": "code",
   "execution_count": 9,
   "id": "8f5a5192-86c1-4316-b56a-7a91037a00b0",
   "metadata": {},
   "outputs": [],
   "source": [
    "#train test split\n",
    "X_train, X_test, y_train, y_test = train_test_split(X, y, stratify = y, test_size = 0.2, random_state = 42)"
   ]
  },
  {
   "cell_type": "code",
   "execution_count": 10,
   "id": "55d67e65-0d7f-42e9-b2cb-54f078aaee67",
   "metadata": {},
   "outputs": [],
   "source": [
    "#preprocessing\n",
    "#Defines & prepares diff data transformations that must be applied to the numerical & categorical features separately before the ML model sees the data\n",
    "preprocessor = ColumnTransformer(transformers = [\n",
    "    (\"num\", StandardScaler(), num_features),\n",
    "    (\"cat\", OneHotEncoder(handle_unknown=\"ignore\", sparse_output=False), cat_features)\n",
    "],remainder='drop')"
   ]
  },
  {
   "cell_type": "code",
   "execution_count": 11,
   "id": "40ed285e-904f-4df7-ba07-8c560b2fcf7c",
   "metadata": {},
   "outputs": [
    {
     "name": "stdout",
     "output_type": "stream",
     "text": [
      "Logistic Regression - accuracy: 0.808\n",
      "Logistic Regression - ROC AUC: 0.7747578086561138\n",
      "              precision    recall  f1-score   support\n",
      "\n",
      "           0       0.82      0.97      0.89      1593\n",
      "           1       0.59      0.19      0.28       407\n",
      "\n",
      "    accuracy                           0.81      2000\n",
      "   macro avg       0.71      0.58      0.59      2000\n",
      "weighted avg       0.78      0.81      0.77      2000\n",
      "\n"
     ]
    }
   ],
   "source": [
    "#logistic regression baseline\n",
    "log_pipe = Pipeline([(\"pre\", preprocessor),(\"clf\", LogisticRegression(max_iter=1000))])\n",
    "log_pipe.fit(X_train, y_train)\n",
    "y_pred_log = log_pipe.predict(X_test)\n",
    "y_proba_log = log_pipe.predict_proba(X_test) [:,1]\n",
    "print(\"Logistic Regression - accuracy:\", accuracy_score(y_test, y_pred_log))\n",
    "print(\"Logistic Regression - ROC AUC:\", roc_auc_score(y_test, y_proba_log))\n",
    "print(classification_report(y_test, y_pred_log))"
   ]
  },
  {
   "cell_type": "code",
   "execution_count": 12,
   "id": "43eb3744-c66b-4f26-a318-0dcce011ca75",
   "metadata": {},
   "outputs": [
    {
     "name": "stdout",
     "output_type": "stream",
     "text": [
      "Best RF params: {'clf__max_depth': 10, 'clf__n_estimators': 200}\n",
      "Random Forest - accuracy: 0.8675\n",
      "Random Forest - ROC AUC: 0.8612032679829289\n",
      "              precision    recall  f1-score   support\n",
      "\n",
      "           0       0.87      0.98      0.92      1593\n",
      "           1       0.83      0.44      0.57       407\n",
      "\n",
      "    accuracy                           0.87      2000\n",
      "   macro avg       0.85      0.71      0.75      2000\n",
      "weighted avg       0.86      0.87      0.85      2000\n",
      "\n"
     ]
    }
   ],
   "source": [
    "rf_pipe = Pipeline([(\"pre\", preprocessor),(\"clf\", RandomForestClassifier(random_state = 42, n_jobs = -1))])\n",
    "param_grid = {\n",
    "    \"clf__n_estimators\":[100,200],\n",
    "    \"clf__max_depth\":[5,10,None]\n",
    "}\n",
    "gscv = GridSearchCV(rf_pipe, param_grid, cv=3, scoring=\"roc_auc\", n_jobs = -1)\n",
    "gscv.fit(X_train, y_train)\n",
    "best_rf = gscv.best_estimator_\n",
    "print(\"Best RF params:\", gscv.best_params_)\n",
    "\n",
    "y_pred_rf = best_rf.predict(X_test)\n",
    "y_proba_rf = best_rf.predict_proba(X_test) [:,1]\n",
    "print(\"Random Forest - accuracy:\", accuracy_score(y_test, y_pred_rf))\n",
    "print(\"Random Forest - ROC AUC:\", roc_auc_score(y_test, y_proba_rf))\n",
    "print(classification_report(y_test, y_pred_rf))"
   ]
  },
  {
   "cell_type": "code",
   "execution_count": 13,
   "id": "60149e53-283c-417b-839c-72f6492ca564",
   "metadata": {},
   "outputs": [
    {
     "name": "stdout",
     "output_type": "stream",
     "text": [
      "Confusion Matrix:\n",
      " [[1557   36]\n",
      " [ 229  178]]\n"
     ]
    }
   ],
   "source": [
    "cm = confusion_matrix(y_test, y_pred_rf)\n",
    "print(\"Confusion Matrix:\\n\", cm)"
   ]
  },
  {
   "cell_type": "code",
   "execution_count": 14,
   "id": "7dffadb1-89e8-4c53-babe-2fc160551637",
   "metadata": {},
   "outputs": [
    {
     "data": {
      "image/png": "[encoded data removed]",
      "text/plain": [
       "<Figure size 640x480 with 1 Axes>"
      ]
     },
     "metadata": {},
     "output_type": "display_data"
    }
   ],
   "source": [
    "#ROC curve\n",
    "RocCurveDisplay.from_estimator(best_rf, X_test, y_test)\n",
    "plt.title(\"Roc Curve(Random Forest)\")\n",
    "plt.savefig('Roc_Curve_Random_Forest.png', dpi=300, bbox_inches = 'tight')\n",
    "plt.show()"
   ]
  },
  {
   "cell_type": "code",
   "execution_count": 16,
   "id": "2acf2135-0092-4551-a0c1-67fc854763b0",
   "metadata": {},
   "outputs": [
    {
     "name": "stdout",
     "output_type": "stream",
     "text": [
      "Top features:\n",
      "              feature  importance\n",
      "1                age    0.309169\n",
      "4    products_number    0.209672\n",
      "3            balance    0.107772\n",
      "0       credit_score    0.087342\n",
      "7   estimated_salary    0.084418\n",
      "6      active_member    0.060142\n",
      "2             tenure    0.045710\n",
      "9    country_Germany    0.039146\n",
      "8     country_France    0.012573\n",
      "5        credit_card    0.012038\n",
      "12       gender_Male    0.011585\n",
      "11     gender_Female    0.010709\n",
      "10     country_Spain    0.009724\n"
     ]
    }
   ],
   "source": [
    "pre = best_rf.named_steps[\"pre\"]\n",
    "num_names = num_features\n",
    "cat_names = []\n",
    "if len(cat_features)>0:\n",
    "    ohe = pre.named_transformers_[\"cat\"]\n",
    "    cat_names = list(ohe.get_feature_names_out(cat_features))\n",
    "feature_names = num_names + cat_names\n",
    "importances = best_rf.named_steps[\"clf\"].feature_importances_\n",
    "feat_imp = pd.DataFrame({\"feature\":feature_names,\"importance\":importances}).sort_values(\"importance\",ascending = False).head(20)\n",
    "print(\"Top features:\\n\", feat_imp)"
   ]
  },
  {
   "cell_type": "code",
   "execution_count": 17,
   "id": "54491b79-c732-44b1-960f-073727cf0b73",
   "metadata": {},
   "outputs": [
    {
     "data": {
      "image/png": "[encoded data removed]",
      "text/plain": [
       "<Figure size 1000x600 with 1 Axes>"
      ]
     },
     "metadata": {},
     "output_type": "display_data"
    }
   ],
   "source": [
    "# Visualize top feature importances\n",
    "plt.figure(figsize=(10, 6))\n",
    "plt.barh(feat_imp['feature'], feat_imp['importance'], color='skyblue')\n",
    "plt.xlabel('Importance', fontsize=12)\n",
    "plt.ylabel('Feature', fontsize=12)\n",
    "plt.title('Top 20 Feature Importances - Random Forest', fontsize=14, fontweight='bold')\n",
    "plt.gca().invert_yaxis()  # Highest importance at the top\n",
    "plt.tight_layout()\n",
    "plt.savefig('Feature_Importances_Random_Forest.png', dpi=300, bbox_inches='tight')\n",
    "plt.show()"
   ]
  },
  {
   "cell_type": "code",
   "execution_count": 18,
   "id": "685e4155-3fee-43f6-a9b3-58e1e5f8b730",
   "metadata": {},
   "outputs": [
    {
     "name": "stdout",
     "output_type": "stream",
     "text": [
      "Saved high_risk_watchlist_top100.csv\n"
     ]
    }
   ],
   "source": [
    "#high-risk watchlist(top 100)\n",
    "proba_full = best_rf.predict_proba(X)[:,1]\n",
    "watchlist = X.copy()\n",
    "watchlist[\"churn_probability\"] = proba_full\n",
    "#if original had an id column that was dropped, recreate index ID\n",
    "if \"customer_id\" in df.columns:\n",
    "    watchlist[\"customer_id\"] = df[\"customer_id\"]\n",
    "else:\n",
    "    watchlist = watchlist.reset_index().rename(columns={\"index\":\"customer_index\"})\n",
    "watchlist_sorted = watchlist.sort_values(\"churn_probability\",ascending=False).head(100)\n",
    "watchlist_sorted.to_csv(\"high_risk_watchlist_top100.csv\",index=False)\n",
    "print(\"Saved high_risk_watchlist_top100.csv\")"
   ]
  },
  {
   "cell_type": "code",
   "execution_count": 19,
   "id": "15325344-ae5e-4327-aa6b-dfd8bfd01620",
   "metadata": {},
   "outputs": [
    {
     "name": "stdout",
     "output_type": "stream",
     "text": [
      "Saved best_churn_model.pkl\n"
     ]
    }
   ],
   "source": [
    "#save model pipeline\n",
    "joblib.dump(best_rf, \"best_churn_model.pkl\")\n",
    "print(\"Saved best_churn_model.pkl\")"
   ]
  },
  {
   "cell_type": "code",
   "execution_count": 20,
   "id": "149ab8ad-4398-4125-91dc-743a660ccd2f",
   "metadata": {},
   "outputs": [
    {
     "name": "stdout",
     "output_type": "stream",
     "text": [
      "Done.\n"
     ]
    }
   ],
   "source": [
    "#saving a small report\n",
    "with open(\"model_summary.txt\",\"w\") as f:\n",
    "    f.write(f\"Logistic ROC AUC:{roc_auc_score(y_test,y_proba_log):.4f}\\n\")\n",
    "    f.write(f\"Random Forest ROC AUC:{roc_auc_score(y_test,y_proba_rf):.4f}\\n\")\n",
    "    f.write(\"Best RF Params: \" + str(gscv.best_params_) + \"\\n\")\n",
    "print(\"Done.\")"
   ]
  },
  {
   "cell_type": "code",
   "execution_count": null,
   "id": "d0c5bef8-ddc5-48ab-bc4a-40f28fa55f3a",
   "metadata": {},
   "outputs": [],
   "source": []
  }
 ],
 "metadata": {
  "kernelspec": {
   "display_name": "Python [conda env:py13]",
   "language": "python",
   "name": "conda-env-py13-py"
  },
  "language_info": {
   "codemirror_mode": {
    "name": "ipython",
    "version": 3
   },
   "file_extension": ".py",
   "mimetype": "text/x-python",
   "name": "python",
   "nbconvert_exporter": "python",
   "pygments_lexer": "ipython3",
   "version": "3.13.5"
  }
 },
 "nbformat": 4,
 "nbformat_minor": 5
}
